{
 "cells": [
  {
   "cell_type": "code",
   "execution_count": 2,
   "metadata": {},
   "outputs": [],
   "source": [
    "import torch\n",
    "from torch import nn\n",
    "import math"
   ]
  },
  {
   "cell_type": "code",
   "execution_count": 3,
   "metadata": {},
   "outputs": [],
   "source": [
    "class SinusoidalPositionEmbeddings(nn.Module):\n",
    "    def __init__(self, dim):\n",
    "        super().__init__()\n",
    "        self.dim = dim\n",
    "\n",
    "    def forward(self, time):\n",
    "        device = time.device\n",
    "        half_dim = self.dim // 2\n",
    "        embeddings = math.log(10000) / (half_dim - 1)\n",
    "        embeddings = torch.exp(torch.arange(half_dim, device=device) * -embeddings)\n",
    "        embeddings = time[:, None] * embeddings[None, :]\n",
    "        embeddings = torch.cat((embeddings.sin(), embeddings.cos()), dim=-1)\n",
    "        return embeddings"
   ]
  },
  {
   "cell_type": "code",
   "execution_count": 5,
   "metadata": {},
   "outputs": [
    {
     "name": "stdout",
     "output_type": "stream",
     "text": [
      "Shape of embeddings: torch.Size([1, 1, 128])\n"
     ]
    }
   ],
   "source": [
    "# Define the dimensionality of the embeddings\n",
    "embedding_dim = 128\n",
    "\n",
    "# Create an instance of SinusoidalPositionEmbeddings\n",
    "position_embeddings = SinusoidalPositionEmbeddings(embedding_dim)\n",
    "\n",
    "# Generate a sample time sequence\n",
    "sequence_length = 64\n",
    "time_sequence = torch.arange(sequence_length).unsqueeze(0)  # Assuming a batch size of 1\n",
    "\n",
    "# Forward pass through the module to generate position embeddings\n",
    "embeddings = position_embeddings(time_sequence)\n",
    "\n",
    "# Print the shape of the generated embeddings\n",
    "print(\"Shape of embeddings:\", embeddings.shape)"
   ]
  },
  {
   "cell_type": "code",
   "execution_count": 6,
   "metadata": {},
   "outputs": [
    {
     "data": {
      "text/plain": [
       "tensor([[ 0,  1,  2,  3,  4,  5,  6,  7,  8,  9, 10, 11, 12, 13, 14, 15, 16, 17,\n",
       "         18, 19, 20, 21, 22, 23, 24, 25, 26, 27, 28, 29, 30, 31, 32, 33, 34, 35,\n",
       "         36, 37, 38, 39, 40, 41, 42, 43, 44, 45, 46, 47, 48, 49, 50, 51, 52, 53,\n",
       "         54, 55, 56, 57, 58, 59, 60, 61, 62, 63]])"
      ]
     },
     "execution_count": 6,
     "metadata": {},
     "output_type": "execute_result"
    }
   ],
   "source": [
    "time_sequence"
   ]
  },
  {
   "cell_type": "code",
   "execution_count": 7,
   "metadata": {},
   "outputs": [
    {
     "data": {
      "text/plain": [
       "tensor([[[ 0.0000,  0.7604,  0.9970,  0.9345,  0.7911,  0.6701,  0.6019,\n",
       "           0.5858,  0.6112,  0.6648,  0.7337,  0.8068,  0.8750,  0.9314,\n",
       "           0.9720,  0.9947,  0.9996,  0.9881,  0.9623,  0.9251,  0.8793,\n",
       "           0.8276,  0.7722,  0.7152,  0.6582,  0.6025,  0.5489,  0.4980,\n",
       "           0.4503,  0.4059,  0.3649,  0.3274,  0.2931,  0.2619,  0.2337,\n",
       "           0.2083,  0.1854,  0.1648,  0.1464,  0.1299,  0.1152,  0.1021,\n",
       "           0.0904,  0.0800,  0.0707,  0.0625,  0.0552,  0.0487,  0.0430,\n",
       "           0.0379,  0.0334,  0.0295,  0.0260,  0.0229,  0.0201,  0.0177,\n",
       "           0.0156,  0.0137,  0.0120,  0.0106,  0.0093,  0.0082,  0.0072,\n",
       "           0.0063,  1.0000,  0.6494,  0.0778, -0.3561, -0.6116, -0.7422,\n",
       "          -0.7986, -0.8104, -0.7915, -0.7471, -0.6795, -0.5908, -0.4842,\n",
       "          -0.3640, -0.2352, -0.1028,  0.0282,  0.1541,  0.2719,  0.3796,\n",
       "           0.4762,  0.5614,  0.6354,  0.6989,  0.7528,  0.7981,  0.8359,\n",
       "           0.8672,  0.8929,  0.9139,  0.9310,  0.9449,  0.9561,  0.9651,\n",
       "           0.9723,  0.9781,  0.9827,  0.9863,  0.9892,  0.9915,  0.9933,\n",
       "           0.9948,  0.9959,  0.9968,  0.9975,  0.9980,  0.9985,  0.9988,\n",
       "           0.9991,  0.9993,  0.9994,  0.9996,  0.9997,  0.9997,  0.9998,\n",
       "           0.9998,  0.9999,  0.9999,  0.9999,  0.9999,  1.0000,  1.0000,\n",
       "           1.0000,  1.0000]]])"
      ]
     },
     "execution_count": 7,
     "metadata": {},
     "output_type": "execute_result"
    }
   ],
   "source": [
    "embeddings"
   ]
  },
  {
   "cell_type": "code",
   "execution_count": 10,
   "metadata": {},
   "outputs": [
    {
     "data": {
      "text/plain": [
       "3.4538776394910684"
      ]
     },
     "execution_count": 10,
     "metadata": {},
     "output_type": "execute_result"
    }
   ],
   "source": [
    "math.log(1000)/2"
   ]
  },
  {
   "cell_type": "code",
   "execution_count": 11,
   "metadata": {},
   "outputs": [
    {
     "data": {
      "text/plain": [
       "tensor([[1.0000e+00, 2.7183e+00, 7.3891e+00, 2.0086e+01, 5.4598e+01, 1.4841e+02,\n",
       "         4.0343e+02, 1.0966e+03, 2.9810e+03, 8.1031e+03, 2.2026e+04, 5.9874e+04,\n",
       "         1.6275e+05, 4.4241e+05, 1.2026e+06, 3.2690e+06, 8.8861e+06, 2.4155e+07,\n",
       "         6.5660e+07, 1.7848e+08, 4.8517e+08, 1.3188e+09, 3.5849e+09, 9.7448e+09,\n",
       "         2.6489e+10, 7.2005e+10, 1.9573e+11, 5.3205e+11, 1.4463e+12, 3.9313e+12,\n",
       "         1.0686e+13, 2.9049e+13, 7.8963e+13, 2.1464e+14, 5.8346e+14, 1.5860e+15,\n",
       "         4.3112e+15, 1.1719e+16, 3.1856e+16, 8.6593e+16, 2.3539e+17, 6.3984e+17,\n",
       "         1.7393e+18, 4.7278e+18, 1.2852e+19, 3.4934e+19, 9.4961e+19, 2.5813e+20,\n",
       "         7.0167e+20, 1.9073e+21, 5.1847e+21, 1.4093e+22, 3.8310e+22, 1.0414e+23,\n",
       "         2.8308e+23, 7.6948e+23, 2.0917e+24, 5.6857e+24, 1.5455e+25, 4.2012e+25,\n",
       "         1.1420e+26, 3.1043e+26, 8.4384e+26, 2.2938e+27]])"
      ]
     },
     "execution_count": 11,
     "metadata": {},
     "output_type": "execute_result"
    }
   ],
   "source": [
    "torch.exp(time_sequence)"
   ]
  },
  {
   "cell_type": "code",
   "execution_count": null,
   "metadata": {},
   "outputs": [],
   "source": []
  }
 ],
 "metadata": {
  "kernelspec": {
   "display_name": "torchenv",
   "language": "python",
   "name": "python3"
  },
  "language_info": {
   "codemirror_mode": {
    "name": "ipython",
    "version": 3
   },
   "file_extension": ".py",
   "mimetype": "text/x-python",
   "name": "python",
   "nbconvert_exporter": "python",
   "pygments_lexer": "ipython3",
   "version": "3.11.7"
  }
 },
 "nbformat": 4,
 "nbformat_minor": 2
}
